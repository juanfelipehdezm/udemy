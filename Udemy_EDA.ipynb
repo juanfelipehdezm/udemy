{
 "cells": [
  {
   "cell_type": "code",
   "execution_count": 7,
   "metadata": {},
   "outputs": [],
   "source": [
    "import pandas as pd\n",
    "import numpy as np\n",
    "import matplotlib.pyplot as plt\n",
    "import seaborn as sns\n",
    "import scipy as sc\n",
    "import datetime as dt"
   ]
  },
  {
   "cell_type": "code",
   "execution_count": 2,
   "metadata": {
    "scrolled": true
   },
   "outputs": [
    {
     "data": {
      "text/html": [
       "<div>\n",
       "<style scoped>\n",
       "    .dataframe tbody tr th:only-of-type {\n",
       "        vertical-align: middle;\n",
       "    }\n",
       "\n",
       "    .dataframe tbody tr th {\n",
       "        vertical-align: top;\n",
       "    }\n",
       "\n",
       "    .dataframe thead th {\n",
       "        text-align: right;\n",
       "    }\n",
       "</style>\n",
       "<table border=\"1\" class=\"dataframe\">\n",
       "  <thead>\n",
       "    <tr style=\"text-align: right;\">\n",
       "      <th></th>\n",
       "      <th>published_time</th>\n",
       "      <th>id</th>\n",
       "      <th>title</th>\n",
       "      <th>url</th>\n",
       "      <th>is_paid</th>\n",
       "      <th>num_subscribers</th>\n",
       "      <th>rating</th>\n",
       "      <th>num_reviews</th>\n",
       "      <th>is_wishlisted</th>\n",
       "      <th>num_published_lectures</th>\n",
       "      <th>num_published_practice_tests</th>\n",
       "      <th>discount_price__price_string</th>\n",
       "      <th>price_detail__price_string</th>\n",
       "      <th>final_price</th>\n",
       "    </tr>\n",
       "  </thead>\n",
       "  <tbody>\n",
       "    <tr>\n",
       "      <th>0</th>\n",
       "      <td>2018-07-17 21:35:14+00:00</td>\n",
       "      <td>1794086</td>\n",
       "      <td>Blockchain și Bitcoin pe înțelesul tuturor - g...</td>\n",
       "      <td>/course/blockchain-si-bitcoin-pe-intelesul-tut...</td>\n",
       "      <td>True</td>\n",
       "      <td>271</td>\n",
       "      <td>5.0</td>\n",
       "      <td>90</td>\n",
       "      <td>False</td>\n",
       "      <td>27</td>\n",
       "      <td>0</td>\n",
       "      <td>6.1</td>\n",
       "      <td>51.52</td>\n",
       "      <td>45.42</td>\n",
       "    </tr>\n",
       "    <tr>\n",
       "      <th>1</th>\n",
       "      <td>2020-03-24 21:02:54+00:00</td>\n",
       "      <td>2892636</td>\n",
       "      <td>Xero Not for Profit Organization</td>\n",
       "      <td>/course/xero-not-for-profit-organization/</td>\n",
       "      <td>True</td>\n",
       "      <td>5173</td>\n",
       "      <td>5.0</td>\n",
       "      <td>1</td>\n",
       "      <td>False</td>\n",
       "      <td>34</td>\n",
       "      <td>0</td>\n",
       "      <td>6.1</td>\n",
       "      <td>115.91</td>\n",
       "      <td>109.81</td>\n",
       "    </tr>\n",
       "    <tr>\n",
       "      <th>2</th>\n",
       "      <td>2018-03-26 22:36:40+00:00</td>\n",
       "      <td>1593672</td>\n",
       "      <td>Take Control of Your Future - Understand Crypt...</td>\n",
       "      <td>/course/take-control-of-your-future-start-unde...</td>\n",
       "      <td>True</td>\n",
       "      <td>266</td>\n",
       "      <td>5.0</td>\n",
       "      <td>2</td>\n",
       "      <td>False</td>\n",
       "      <td>22</td>\n",
       "      <td>0</td>\n",
       "      <td>6.1</td>\n",
       "      <td>85.86</td>\n",
       "      <td>79.76</td>\n",
       "    </tr>\n",
       "    <tr>\n",
       "      <th>3</th>\n",
       "      <td>2014-12-04 16:18:14+00:00</td>\n",
       "      <td>354864</td>\n",
       "      <td>Mastering QuickBooks v 2015 for Lawyers Traini...</td>\n",
       "      <td>/course/mastering-quickbooks-v-2015-for-lawyer...</td>\n",
       "      <td>True</td>\n",
       "      <td>59</td>\n",
       "      <td>5.0</td>\n",
       "      <td>2</td>\n",
       "      <td>False</td>\n",
       "      <td>27</td>\n",
       "      <td>0</td>\n",
       "      <td>6.1</td>\n",
       "      <td>17.17</td>\n",
       "      <td>11.07</td>\n",
       "    </tr>\n",
       "    <tr>\n",
       "      <th>4</th>\n",
       "      <td>2018-08-01 20:37:36+00:00</td>\n",
       "      <td>1814396</td>\n",
       "      <td>Accounting Cycle- Test Questions Only</td>\n",
       "      <td>/course/accounting-cycle-test-questions-only/</td>\n",
       "      <td>True</td>\n",
       "      <td>920</td>\n",
       "      <td>5.0</td>\n",
       "      <td>2</td>\n",
       "      <td>False</td>\n",
       "      <td>50</td>\n",
       "      <td>0</td>\n",
       "      <td>6.1</td>\n",
       "      <td>17.17</td>\n",
       "      <td>11.07</td>\n",
       "    </tr>\n",
       "    <tr>\n",
       "      <th>...</th>\n",
       "      <td>...</td>\n",
       "      <td>...</td>\n",
       "      <td>...</td>\n",
       "      <td>...</td>\n",
       "      <td>...</td>\n",
       "      <td>...</td>\n",
       "      <td>...</td>\n",
       "      <td>...</td>\n",
       "      <td>...</td>\n",
       "      <td>...</td>\n",
       "      <td>...</td>\n",
       "      <td>...</td>\n",
       "      <td>...</td>\n",
       "      <td>...</td>\n",
       "    </tr>\n",
       "    <tr>\n",
       "      <th>9481</th>\n",
       "      <td>2014-06-09 19:57:50+00:00</td>\n",
       "      <td>187846</td>\n",
       "      <td>Repeat Business Skills For Techies</td>\n",
       "      <td>/course/repeat-business-skills-for-techies/</td>\n",
       "      <td>True</td>\n",
       "      <td>175</td>\n",
       "      <td>1.5</td>\n",
       "      <td>3</td>\n",
       "      <td>False</td>\n",
       "      <td>52</td>\n",
       "      <td>0</td>\n",
       "      <td>6.1</td>\n",
       "      <td>21.46</td>\n",
       "      <td>15.36</td>\n",
       "    </tr>\n",
       "    <tr>\n",
       "      <th>9482</th>\n",
       "      <td>2020-06-29 21:41:52+00:00</td>\n",
       "      <td>2796638</td>\n",
       "      <td>International Trade Policy/ For business growt...</td>\n",
       "      <td>/course/international-trade-policy-for-busines...</td>\n",
       "      <td>True</td>\n",
       "      <td>135</td>\n",
       "      <td>5.0</td>\n",
       "      <td>1</td>\n",
       "      <td>False</td>\n",
       "      <td>11</td>\n",
       "      <td>0</td>\n",
       "      <td>6.1</td>\n",
       "      <td>17.17</td>\n",
       "      <td>11.07</td>\n",
       "    </tr>\n",
       "    <tr>\n",
       "      <th>9483</th>\n",
       "      <td>2019-02-19 18:19:34+00:00</td>\n",
       "      <td>2188424</td>\n",
       "      <td>Financial Freedom</td>\n",
       "      <td>/course/financial-freedom-a/</td>\n",
       "      <td>True</td>\n",
       "      <td>838</td>\n",
       "      <td>5.0</td>\n",
       "      <td>3</td>\n",
       "      <td>False</td>\n",
       "      <td>18</td>\n",
       "      <td>0</td>\n",
       "      <td>6.1</td>\n",
       "      <td>17.17</td>\n",
       "      <td>11.07</td>\n",
       "    </tr>\n",
       "    <tr>\n",
       "      <th>9484</th>\n",
       "      <td>2018-04-17 21:49:43+00:00</td>\n",
       "      <td>787084</td>\n",
       "      <td>Forex Foundation Course</td>\n",
       "      <td>/course/forex-foundation/</td>\n",
       "      <td>True</td>\n",
       "      <td>182</td>\n",
       "      <td>5.0</td>\n",
       "      <td>1</td>\n",
       "      <td>False</td>\n",
       "      <td>56</td>\n",
       "      <td>0</td>\n",
       "      <td>6.1</td>\n",
       "      <td>17.17</td>\n",
       "      <td>11.07</td>\n",
       "    </tr>\n",
       "    <tr>\n",
       "      <th>9485</th>\n",
       "      <td>2019-12-24 18:16:06+00:00</td>\n",
       "      <td>2670732</td>\n",
       "      <td>SAP S/4HANA for Financial Accounting Practice ...</td>\n",
       "      <td>/course/sap-s4hana-c_ts4fi_1709-certification-...</td>\n",
       "      <td>True</td>\n",
       "      <td>535</td>\n",
       "      <td>5.0</td>\n",
       "      <td>1</td>\n",
       "      <td>False</td>\n",
       "      <td>0</td>\n",
       "      <td>4</td>\n",
       "      <td>6.1</td>\n",
       "      <td>98.74</td>\n",
       "      <td>92.64</td>\n",
       "    </tr>\n",
       "  </tbody>\n",
       "</table>\n",
       "<p>9486 rows × 14 columns</p>\n",
       "</div>"
      ],
      "text/plain": [
       "                 published_time       id  \\\n",
       "0     2018-07-17 21:35:14+00:00  1794086   \n",
       "1     2020-03-24 21:02:54+00:00  2892636   \n",
       "2     2018-03-26 22:36:40+00:00  1593672   \n",
       "3     2014-12-04 16:18:14+00:00   354864   \n",
       "4     2018-08-01 20:37:36+00:00  1814396   \n",
       "...                         ...      ...   \n",
       "9481  2014-06-09 19:57:50+00:00   187846   \n",
       "9482  2020-06-29 21:41:52+00:00  2796638   \n",
       "9483  2019-02-19 18:19:34+00:00  2188424   \n",
       "9484  2018-04-17 21:49:43+00:00   787084   \n",
       "9485  2019-12-24 18:16:06+00:00  2670732   \n",
       "\n",
       "                                                  title  \\\n",
       "0     Blockchain și Bitcoin pe înțelesul tuturor - g...   \n",
       "1                      Xero Not for Profit Organization   \n",
       "2     Take Control of Your Future - Understand Crypt...   \n",
       "3     Mastering QuickBooks v 2015 for Lawyers Traini...   \n",
       "4                 Accounting Cycle- Test Questions Only   \n",
       "...                                                 ...   \n",
       "9481                 Repeat Business Skills For Techies   \n",
       "9482  International Trade Policy/ For business growt...   \n",
       "9483                                  Financial Freedom   \n",
       "9484                            Forex Foundation Course   \n",
       "9485  SAP S/4HANA for Financial Accounting Practice ...   \n",
       "\n",
       "                                                    url  is_paid  \\\n",
       "0     /course/blockchain-si-bitcoin-pe-intelesul-tut...     True   \n",
       "1             /course/xero-not-for-profit-organization/     True   \n",
       "2     /course/take-control-of-your-future-start-unde...     True   \n",
       "3     /course/mastering-quickbooks-v-2015-for-lawyer...     True   \n",
       "4         /course/accounting-cycle-test-questions-only/     True   \n",
       "...                                                 ...      ...   \n",
       "9481        /course/repeat-business-skills-for-techies/     True   \n",
       "9482  /course/international-trade-policy-for-busines...     True   \n",
       "9483                       /course/financial-freedom-a/     True   \n",
       "9484                          /course/forex-foundation/     True   \n",
       "9485  /course/sap-s4hana-c_ts4fi_1709-certification-...     True   \n",
       "\n",
       "      num_subscribers  rating  num_reviews  is_wishlisted  \\\n",
       "0                 271     5.0           90          False   \n",
       "1                5173     5.0            1          False   \n",
       "2                 266     5.0            2          False   \n",
       "3                  59     5.0            2          False   \n",
       "4                 920     5.0            2          False   \n",
       "...               ...     ...          ...            ...   \n",
       "9481              175     1.5            3          False   \n",
       "9482              135     5.0            1          False   \n",
       "9483              838     5.0            3          False   \n",
       "9484              182     5.0            1          False   \n",
       "9485              535     5.0            1          False   \n",
       "\n",
       "      num_published_lectures  num_published_practice_tests  \\\n",
       "0                         27                             0   \n",
       "1                         34                             0   \n",
       "2                         22                             0   \n",
       "3                         27                             0   \n",
       "4                         50                             0   \n",
       "...                      ...                           ...   \n",
       "9481                      52                             0   \n",
       "9482                      11                             0   \n",
       "9483                      18                             0   \n",
       "9484                      56                             0   \n",
       "9485                       0                             4   \n",
       "\n",
       "      discount_price__price_string  price_detail__price_string  final_price  \n",
       "0                              6.1                       51.52        45.42  \n",
       "1                              6.1                      115.91       109.81  \n",
       "2                              6.1                       85.86        79.76  \n",
       "3                              6.1                       17.17        11.07  \n",
       "4                              6.1                       17.17        11.07  \n",
       "...                            ...                         ...          ...  \n",
       "9481                           6.1                       21.46        15.36  \n",
       "9482                           6.1                       17.17        11.07  \n",
       "9483                           6.1                       17.17        11.07  \n",
       "9484                           6.1                       17.17        11.07  \n",
       "9485                           6.1                       98.74        92.64  \n",
       "\n",
       "[9486 rows x 14 columns]"
      ]
     },
     "metadata": {},
     "output_type": "display_data"
    }
   ],
   "source": [
    "udemy = pd.read_csv(\"Udemy_clean.csv\")\n",
    "display(udemy)"
   ]
  },
  {
   "cell_type": "code",
   "execution_count": 3,
   "metadata": {
    "scrolled": true
   },
   "outputs": [
    {
     "data": {
      "image/png": "[encoded data removed]",
      "text/plain": [
       "<Figure size 360x360 with 1 Axes>"
      ]
     },
     "metadata": {},
     "output_type": "display_data"
    },
    {
     "data": {
      "text/plain": [
       "4.5    4577\n",
       "4.0    2136\n",
       "5.0    1822\n",
       "3.5     687\n",
       "3.0     200\n",
       "2.5      40\n",
       "2.0      18\n",
       "1.5       6\n",
       "Name: rating, dtype: int64"
      ]
     },
     "metadata": {},
     "output_type": "display_data"
    }
   ],
   "source": [
    "sns.set_style(\"whitegrid\")\n",
    "sns.catplot(x=\"rating\",data=udemy,kind=\"count\",order=udemy[\"rating\"].sort_values(ascending=False).unique())\n",
    "plt.show()\n",
    "\n",
    "display(udemy[\"rating\"].value_counts())"
   ]
  },
  {
   "cell_type": "markdown",
   "metadata": {},
   "source": [
    "We can notice, that the main ratings are found between 4 and 5 which can means that the subscribers are in a great level satisfy with the quality of the courses."
   ]
  },
  {
   "cell_type": "markdown",
   "metadata": {},
   "source": [
    "But has the price anything to do with the rating?"
   ]
  },
  {
   "cell_type": "code",
   "execution_count": 4,
   "metadata": {
    "scrolled": false
   },
   "outputs": [
    {
     "data": {
      "image/png": "[encoded data removed]",
      "text/plain": [
       "<Figure size 360x360 with 1 Axes>"
      ]
     },
     "metadata": {},
     "output_type": "display_data"
    },
    {
     "name": "stdout",
     "output_type": "stream",
     "text": [
      "Pearson: 0.11\n"
     ]
    }
   ],
   "source": [
    "sns.relplot(x=\"rating\",y=\"final_price\",data=udemy,kind=\"scatter\",alpha=0.4)\n",
    "plt.show()\n",
    "\n",
    "correlation,pvalue = sc.stats.pearsonr(udemy[\"rating\"],udemy[\"final_price\"])\n",
    "print(\"Pearson:\",round(correlation,2))"
   ]
  },
  {
   "cell_type": "markdown",
   "metadata": {},
   "source": [
    "According to the relational-plot and to the pearson coeficcient that there is not a strong relationship beetween the rating and the final_price."
   ]
  },
  {
   "cell_type": "code",
   "execution_count": 19,
   "metadata": {
    "scrolled": true
   },
   "outputs": [],
   "source": [
    "#even when I passed to datetime type, I have to do it again.\n",
    "udemy[\"published_time\"] = pd.to_datetime(udemy[\"published_time\"])\n",
    "assert udemy[\"published_time\"].dtype == \"datetime64[ns, UTC]\"                            "
   ]
  },
  {
   "cell_type": "markdown",
   "metadata": {},
   "source": [
    "lets explore how the num of subscribers has aumented throught time."
   ]
  },
  {
   "cell_type": "code",
   "execution_count": 47,
   "metadata": {
    "scrolled": true
   },
   "outputs": [],
   "source": [
    "years = udemy[\"published_time\"].dt.year.unique() #Unique year for X axis\n",
    "udemy[\"years\"] = udemy[\"published_time\"].dt.year #\n",
    "sum_subs = udemy.groupby(\"years\")[\"num_subscribers\"].sum()"
   ]
  },
  {
   "cell_type": "code",
   "execution_count": 66,
   "metadata": {},
   "outputs": [],
   "source": [
    "plt.style.use(\"ggplot\")"
   ]
  },
  {
   "cell_type": "code",
   "execution_count": 68,
   "metadata": {
    "scrolled": true
   },
   "outputs": [
    {
     "data": {
      "image/png": "[encoded data removed]",
      "text/plain": [
       "<Figure size 432x288 with 1 Axes>"
      ]
     },
     "metadata": {},
     "output_type": "display_data"
    },
    {
     "data": {
      "text/plain": [
       "years\n",
       "2010    2268.000000\n",
       "2011    2839.777778\n",
       "2012    1901.355932\n",
       "2013    3789.425926\n",
       "2014    4476.480274\n",
       "2015    3776.417591\n",
       "2016    5639.985361\n",
       "2017    4325.911945\n",
       "2018    2938.783019\n",
       "2019    2490.374922\n",
       "2020    3432.395889\n",
       "Name: num_subscribers, dtype: float64"
      ]
     },
     "metadata": {},
     "output_type": "display_data"
    }
   ],
   "source": [
    "sum_subs.plot(x=years,y=\"num_subscribers\",kind=\"line\",marker=\"o\")\n",
    "plt.ylabel(\"Total subs\")\n",
    "plt.xlabel(\"Years\")\n",
    "plt.title(\"Total subs per Years\")\n",
    "plt.show()\n",
    "\n",
    "display(num_subs)"
   ]
  },
  {
   "cell_type": "markdown",
   "metadata": {},
   "source": [
    "It seams that between 2018 and 2020 the num of subscribers went down "
   ]
  },
  {
   "cell_type": "code",
   "execution_count": null,
   "metadata": {},
   "outputs": [],
   "source": []
  }
 ],
 "metadata": {
  "kernelspec": {
   "display_name": "Python 3",
   "language": "python",
   "name": "python3"
  },
  "language_info": {
   "codemirror_mode": {
    "name": "ipython",
    "version": 3
   },
   "file_extension": ".py",
   "mimetype": "text/x-python",
   "name": "python",
   "nbconvert_exporter": "python",
   "pygments_lexer": "ipython3",
   "version": "3.8.5"
  }
 },
 "nbformat": 4,
 "nbformat_minor": 4
}
